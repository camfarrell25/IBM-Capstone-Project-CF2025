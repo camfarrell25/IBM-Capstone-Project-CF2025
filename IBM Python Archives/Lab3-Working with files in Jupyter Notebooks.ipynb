{
 "cells": [
  {
   "cell_type": "markdown",
   "metadata": {},
   "source": [
    "# Lab - Working with files in Jupyter Notebooks\n",
    "## Objectives\n",
    "\n",
    "After completing this lab, you will be able to:\n",
    "*   Explore different Run Options\n",
    "*   Rename your notebook\n",
    "*   Shutdown your notebook\n",
    "*   Save and download the notebook\n",
    "*   Upload the downloaded notebook \n",
    "*   Work with multiple notebooks\n"
   ]
  },
  {
   "cell_type": "markdown",
   "metadata": {},
   "source": [
    "## Exercise 1 - Different Run Options \n",
    "- Run all cells from the menu "
   ]
  },
  {
   "cell_type": "markdown",
   "metadata": {},
   "source": [
    "## Exercise 2 - Rename "
   ]
  },
  {
   "cell_type": "markdown",
   "metadata": {},
   "source": [
    "## Exercise 3 - Shutdown \n",
    "Shut down the notebook session by viewing existing running sessions and clicking the running terminals and kernels in the left navigation pane in Notebook"
   ]
  },
  {
   "cell_type": "markdown",
   "metadata": {},
   "source": []
  }
 ],
 "metadata": {
  "language_info": {
   "name": "python"
  }
 },
 "nbformat": 4,
 "nbformat_minor": 2
}
