{
 "cells": [
  {
   "cell_type": "markdown",
   "metadata": {},
   "source": [
    "# Lab - Using Markdowns in Jupyter Notebooks"
   ]
  },
  {
   "cell_type": "markdown",
   "metadata": {},
   "source": [
    "## Exercise 1 - Kernels in Jupyter Notebooks"
   ]
  },
  {
   "cell_type": "code",
   "execution_count": null,
   "metadata": {},
   "outputs": [],
   "source": [
    "#Pyolite - maybe not necessary\n",
    "# what is pyolite - part of jupyter lite project, it's designed to run python code directly in the web browser. "
   ]
  },
  {
   "cell_type": "markdown",
   "metadata": {},
   "source": [
    "## Exercise 2 - Create Headings, Add Test in bold and italics in Markdown"
   ]
  },
  {
   "cell_type": "markdown",
   "metadata": {},
   "source": [
    "You can create headings by adding a # sign before a word or a phrase.\n",
    "\n",
    "- There are six levels of headings.\n",
    "- The number sign # indicate the level of heading for example # Hello corresponds to level 1,the highest level heading."
   ]
  },
  {
   "cell_type": "markdown",
   "metadata": {},
   "source": [
    "# Execute it as a markdown cell - Heading Types\n",
    "# H1: This is a level 1 Heading\n",
    "## H2: This is a level 2 Heading\n",
    "### H3: This is a level 3 Heading\n",
    "#### H4: This is a level 4 Heading\n",
    "##### H5: This is a level 5 Heading\n",
    "###### H6: This is a level 6 Heading"
   ]
  },
  {
   "cell_type": "markdown",
   "metadata": {},
   "source": [
    "# Execute it as a markdown cell - Bold\n",
    "**Bold Text using asterisks.**  \n",
    "__Bold Text using underscores.__"
   ]
  },
  {
   "cell_type": "markdown",
   "metadata": {},
   "source": [
    "# Execute it as a markdown cell - Italic\n",
    "***Bold and Italic text using asterisks.***  \n",
    "___Bold and Italic text using underscores.___"
   ]
  },
  {
   "cell_type": "markdown",
   "metadata": {},
   "source": [
    "# Execute it as a markdown cell - Insert Link and Images using Markdown\n",
    "[Skills Network](https://skills.network/) "
   ]
  },
  {
   "cell_type": "markdown",
   "metadata": {},
   "source": [
    "# Execute it as a markdown cell - Insert Images\n",
    "LOGO: ![This is the skills network logo](https://cf-courses-data.s3.us.cloud-object-storage.appdomain.cloud/assets/logos/SN_web_lightmode.png)"
   ]
  },
  {
   "cell_type": "markdown",
   "metadata": {},
   "source": [
    "# Execute as a markdown cell - Create Ordered and Unordered List in Markdown\n",
    "- First item using dashes\n",
    "- Second item using dashes\n",
    "- Third item using dashes\n",
    "- Fourth item using dashes\n",
    "\n",
    "* First item using asterisks\n",
    "* Second item using asterisks\n",
    "* Third item using asterisks\n",
    "* Fourth item using asterisks\n",
    "\n",
    "+ First item using plus\n",
    "+ Second item using plus\n",
    "+ Third item using plus\n",
    "+ Fourth item using plus"
   ]
  },
  {
   "cell_type": "markdown",
   "metadata": {},
   "source": [
    "# Execute as a markdown cell - Ordered List\n",
    "1. First item\n",
    "2. Second item\n",
    "3. Third item\n",
    "4. Fourth item"
   ]
  },
  {
   "cell_type": "markdown",
   "metadata": {},
   "source": [
    "# Practice Exercise"
   ]
  },
  {
   "cell_type": "markdown",
   "metadata": {},
   "source": [
    "## Task 1 - Create H2 level heading as Welcome to Python programming and add the image from the following url with alt test as \"This is SN labs New Launcher\""
   ]
  },
  {
   "cell_type": "code",
   "execution_count": 5,
   "metadata": {},
   "outputs": [],
   "source": [
    "# For Picture - syntax is Name of imagine: ![alt text](Path)"
   ]
  },
  {
   "cell_type": "markdown",
   "metadata": {},
   "source": [
    "# Welcome to Python Programming \n",
    "Launcher: ![This is SN labs New Launcher](https://cf-courses-data.s3.us.cloud-object-storage.appdomain.cloud/IBMDeveloperSkillsNetwork-DS0105EN-SkillsNetwork/labs/Labs_V4/images/Launcher.png)"
   ]
  },
  {
   "cell_type": "markdown",
   "metadata": {},
   "source": [
    "## Task 2 - Create a hyperlink to \"https://www.coursera.org/learn/open-source-tools-for-data-science/home\" with the Name of the link as \"Tools for data science\""
   ]
  },
  {
   "cell_type": "code",
   "execution_count": 4,
   "metadata": {},
   "outputs": [],
   "source": [
    "# For a link - syntax is [Name of the link](Link Url)"
   ]
  },
  {
   "cell_type": "markdown",
   "metadata": {},
   "source": [
    "[Tools for data science](https://www.coursera.org/learn/open-source-tools-for-data-science/home)"
   ]
  },
  {
   "cell_type": "markdown",
   "metadata": {},
   "source": [
    "## Task 3 - Create a table "
   ]
  },
  {
   "cell_type": "code",
   "execution_count": 7,
   "metadata": {},
   "outputs": [],
   "source": [
    "# To create a table \n",
    "# hyphens (-----) for column headers\n",
    "# pipes | to seperate each column\n",
    "\n",
    "## Execute as a markdown cell\n",
    "\n",
    "#| Country Name | Capital |\n",
    "#| -------------| ------ |\n",
    "#| United States | Washington DC |\n",
    "#| Australia | Canberra |\n",
    "#| India | New Delhi |"
   ]
  },
  {
   "cell_type": "markdown",
   "metadata": {},
   "source": [
    "|Fruits|Quantity(Kg)|Price(in Rupee)|\n",
    "|---|---|---|\n",
    "|Apple|2|500|\n",
    "|Orange|1|200|\n",
    "|Mango|3|1000|\n",
    "|Grapes|2|400|"
   ]
  },
  {
   "cell_type": "markdown",
   "metadata": {},
   "source": [
    "## Task 4 - Create an ordered list "
   ]
  },
  {
   "cell_type": "markdown",
   "metadata": {},
   "source": [
    "1. Python\n",
    "2. Java\n",
    "3. C++\n",
    "4. C"
   ]
  },
  {
   "cell_type": "markdown",
   "metadata": {},
   "source": []
  }
 ],
 "metadata": {
  "kernelspec": {
   "display_name": "Python 3",
   "language": "python",
   "name": "python3"
  },
  "language_info": {
   "codemirror_mode": {
    "name": "ipython",
    "version": 3
   },
   "file_extension": ".py",
   "mimetype": "text/x-python",
   "name": "python",
   "nbconvert_exporter": "python",
   "pygments_lexer": "ipython3",
   "version": "3.9.6"
  }
 },
 "nbformat": 4,
 "nbformat_minor": 2
}
