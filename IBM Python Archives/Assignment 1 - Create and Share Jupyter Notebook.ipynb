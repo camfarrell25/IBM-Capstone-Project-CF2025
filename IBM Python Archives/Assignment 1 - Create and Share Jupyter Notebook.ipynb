{
 "cells": [
  {
   "cell_type": "markdown",
   "metadata": {},
   "source": [
    "# Final Assignment - Create and Share Jupyter Notebook"
   ]
  },
  {
   "cell_type": "markdown",
   "metadata": {},
   "source": [
    "- Task 1 - Create a jupyter notebook called \"DataScienceEcosystem.ipynb\n",
    "- Task 2 - Create a markdown cell with the title of the Notebook\n",
    "- Task 3 - Create a markdown for the introduction\n",
    "- Task 4 - Create a markdown cell to list data science languages using an ordered list\n",
    "- Task 5 - Create a markdown cell to list data science libriaries using an ordered list\n",
    "- Task 6 - Create a markdowncell with a table of data science tools (single column table)\n",
    "- Task 7 - Create markdown cell introducting arithmetic expression examples\n",
    "- Task 8 - Create code cell to multiply and add numbers\n",
    "- Task 9 - Create a code cell to convert minutes to hours\n",
    "- Task 10 - Insert a markdown cell to list objectives"
   ]
  },
  {
   "cell_type": "markdown",
   "metadata": {},
   "source": [
    "-------------------------- SUBMISSION -------------------"
   ]
  },
  {
   "cell_type": "markdown",
   "metadata": {},
   "source": [
    "# Data Science Tools and Ecosystem"
   ]
  },
  {
   "cell_type": "markdown",
   "metadata": {},
   "source": [
    "In this notebook, Data Science Tools and Ecosystems are summarized"
   ]
  },
  {
   "cell_type": "markdown",
   "metadata": {},
   "source": [
    "Some of the popular languages that data scientists use are: \n",
    "1. Python\n",
    "2. R\n",
    "3. Java\n",
    "4. C++ \n",
    "5. Julia "
   ]
  },
  {
   "cell_type": "markdown",
   "metadata": {},
   "source": [
    "Some of the commonly used libraries used by data scientists are: \n",
    "1. Numpy \n",
    "2. Matplotlib \n",
    "3. Pandas\n",
    "4. Seaborn\n",
    "5. plotly\n",
    "6. Scikit-Learn\n",
    "7. TensorFlow\n",
    "8. PyTorch\n",
    "9. Dask - for data processing and pipeline\n"
   ]
  },
  {
   "cell_type": "markdown",
   "metadata": {},
   "source": [
    "Some of the commonly used data science tools: \n",
    "| Data Science Tools|\n",
    "|-------|\n",
    "|MySQL and Postgre SQL *(Open Source Relational Database Mangement Systems (RDBMS)*|\n",
    "|MongoDB and Apache Cassandra *(NoSQL Databases)*|\n",
    "|Apache Hadoop and Apache Spark *(Big Data Analytics)*|\n",
    "|Apache Airflow and Apache Kafka *(Data Integration and Transformation Tools)*|\n",
    "|Cognos Analytics, Tableau, PowerBI *(Data Visualization Tools )*|\n",
    "|Git, GitHub *(Code Asset Management Tools )*|\n",
    "|Jupyter Notebook, R Studio, VS Code *(Development Environment)*|"
   ]
  },
  {
   "cell_type": "markdown",
   "metadata": {},
   "source": [
    "### Below are a few examples of evaluating arithmetic expressions in Python"
   ]
  },
  {
   "cell_type": "code",
   "execution_count": 1,
   "metadata": {},
   "outputs": [
    {
     "data": {
      "text/plain": [
       "17"
      ]
     },
     "execution_count": 1,
     "metadata": {},
     "output_type": "execute_result"
    }
   ],
   "source": [
    "# Evaluate (3*4)+5\n",
    "(3*4)+5"
   ]
  },
  {
   "cell_type": "code",
   "execution_count": 8,
   "metadata": {},
   "outputs": [
    {
     "name": "stdout",
     "output_type": "stream",
     "text": [
      "200 minutes are equivalent to 3.3 hours\n"
     ]
    }
   ],
   "source": [
    "# Converting minutes to hours -  x = number of minutes - note that: {y:.2f}: Formats the value of y to two decimal places. The .2f specifies fixed-point notation with two decimal places.\n",
    "x = 200\n",
    "y = x/60\n",
    "print(f\"{x} minutes are equivalent to {y:.2} hours\")"
   ]
  },
  {
   "cell_type": "markdown",
   "metadata": {},
   "source": [
    "### Objectives: \n",
    "- List popular languages for data science \n",
    "- Create jupyter notebook\n",
    "- Insert code and markdown ccells\n",
    "- Share notebook through github\n",
    "- List popular data science tools"
   ]
  },
  {
   "cell_type": "code",
   "execution_count": null,
   "metadata": {},
   "outputs": [],
   "source": []
  }
 ],
 "metadata": {
  "kernelspec": {
   "display_name": "Python 3",
   "language": "python",
   "name": "python3"
  },
  "language_info": {
   "codemirror_mode": {
    "name": "ipython",
    "version": 3
   },
   "file_extension": ".py",
   "mimetype": "text/x-python",
   "name": "python",
   "nbconvert_exporter": "python",
   "pygments_lexer": "ipython3",
   "version": "3.9.6"
  }
 },
 "nbformat": 4,
 "nbformat_minor": 2
}
